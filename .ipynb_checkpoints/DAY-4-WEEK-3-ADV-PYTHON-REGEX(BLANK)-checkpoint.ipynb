{
 "cells": [
  {
   "cell_type": "markdown",
   "metadata": {},
   "source": [
    "# Regular Expressions"
   ]
  },
  {
   "cell_type": "markdown",
   "metadata": {},
   "source": [
    "# Tasks today:\n",
    "1) <b>Importing</b> <br>\n",
    "2) <b>Using Regular Expressions</b> <br>\n",
    " &nbsp;&nbsp;&nbsp;&nbsp; a) re.compile() <br>\n",
    " &nbsp;&nbsp;&nbsp;&nbsp; b) re.match() <br>\n",
    " &nbsp;&nbsp;&nbsp;&nbsp; c) re.findall() <br>\n",
    " &nbsp;&nbsp;&nbsp;&nbsp; d) re.search() <br>\n",
    "3) <b>Sets</b> <br>\n",
    " &nbsp;&nbsp;&nbsp;&nbsp; a) Integer Ranges <br>\n",
    " &nbsp;&nbsp;&nbsp;&nbsp; b) Character Ranges <br>\n",
    "4) <b>Counting Occurences</b> <br>\n",
    " &nbsp;&nbsp;&nbsp;&nbsp; a) {x} <br>\n",
    " &nbsp;&nbsp;&nbsp;&nbsp; b) {, x} <br>\n",
    " &nbsp;&nbsp;&nbsp;&nbsp; c) {?} <br>\n",
    " &nbsp;&nbsp;&nbsp;&nbsp; d) {*} <br>\n",
    " &nbsp;&nbsp;&nbsp;&nbsp; e) {+} <br>\n",
    "5) <b>In-Class Exercise #1</b> <br>\n",
    "6) <b>Escaping Characters</b> <br>\n",
    "7) <b>Grouping</b> <br>\n",
    "8) <b>In-Class Exercise #2</b> <br>\n",
    "9) <b>Opening a File</b> <br>\n",
    " &nbsp;&nbsp;&nbsp;&nbsp; a) open() <br>\n",
    " &nbsp;&nbsp;&nbsp;&nbsp; b) with open() <br>\n",
    " &nbsp;&nbsp;&nbsp;&nbsp; c) re.match() <br>\n",
    " &nbsp;&nbsp;&nbsp;&nbsp; d) re.search() <br>\n",
    " &nbsp;&nbsp;&nbsp;&nbsp; e) Store the String in a Variable <br>\n",
    "10) <b>Regex Project</b> <br>"
   ]
  },
  {
   "cell_type": "markdown",
   "metadata": {},
   "source": [
    "### Importing <br>\n",
    "<p>Regular Expressions are universal throughout most programming languages... They are generally imported through the module 're'.</p>"
   ]
  },
  {
   "cell_type": "code",
   "execution_count": 1,
   "metadata": {},
   "outputs": [],
   "source": [
    "# import re\n",
    "import re"
   ]
  },
  {
   "cell_type": "markdown",
   "metadata": {},
   "source": [
    "### Using Regular Expressions <br>\n",
    "<p>Regular expressions give us the ability to search for patterns within text, strings, files, etc. They serve several uses, such as; security measures, searching, filtering, pattern recognition, and more...</p>"
   ]
  },
  {
   "cell_type": "markdown",
   "metadata": {},
   "source": [
    "##### re.compile()"
   ]
  },
  {
   "cell_type": "code",
   "execution_count": null,
   "metadata": {},
   "outputs": [],
   "source": [
    "# using compile, pre determines the string to be used in regular expression methods\n",
    " \n",
    "re.compile()"
   ]
  },
  {
   "cell_type": "markdown",
   "metadata": {},
   "source": [
    "##### re.match()"
   ]
  },
  {
   "cell_type": "code",
   "execution_count": null,
   "metadata": {},
   "outputs": [],
   "source": [
    "\n",
    "\n",
    "# Accessing the span of the match\n"
   ]
  },
  {
   "cell_type": "markdown",
   "metadata": {},
   "source": [
    "##### re.findall()"
   ]
  },
  {
   "cell_type": "code",
   "execution_count": null,
   "metadata": {},
   "outputs": [],
   "source": []
  },
  {
   "cell_type": "markdown",
   "metadata": {},
   "source": [
    "##### re.search()"
   ]
  },
  {
   "cell_type": "code",
   "execution_count": null,
   "metadata": {},
   "outputs": [],
   "source": []
  },
  {
   "cell_type": "markdown",
   "metadata": {},
   "source": [
    "### Sets <br>\n",
    "<p>The following cells will allow you to use regular expressions to search for certain values within a range such as numbers 1 through 4.</p>"
   ]
  },
  {
   "cell_type": "markdown",
   "metadata": {},
   "source": [
    "##### [a-z] or [A-Z] - any lowercase/uppercase letters from a to z<br/>[^2] - anything that's not 2"
   ]
  },
  {
   "cell_type": "markdown",
   "metadata": {},
   "source": [
    "##### Integer Ranges"
   ]
  },
  {
   "cell_type": "code",
   "execution_count": null,
   "metadata": {},
   "outputs": [],
   "source": []
  },
  {
   "cell_type": "markdown",
   "metadata": {},
   "source": [
    "##### Character Ranges"
   ]
  },
  {
   "cell_type": "code",
   "execution_count": null,
   "metadata": {},
   "outputs": [],
   "source": []
  },
  {
   "cell_type": "markdown",
   "metadata": {},
   "source": [
    "### Counting Occurences"
   ]
  },
  {
   "cell_type": "markdown",
   "metadata": {},
   "source": [
    "##### {x} - something that occurs {num_of_times}"
   ]
  },
  {
   "cell_type": "code",
   "execution_count": null,
   "metadata": {},
   "outputs": [],
   "source": []
  },
  {
   "cell_type": "markdown",
   "metadata": {},
   "source": [
    "##### {x, x} - something that occurs between x and x times"
   ]
  },
  {
   "cell_type": "code",
   "execution_count": null,
   "metadata": {},
   "outputs": [],
   "source": []
  },
  {
   "cell_type": "markdown",
   "metadata": {},
   "source": [
    "##### ? - something that occurs 0 or 1 time"
   ]
  },
  {
   "cell_type": "code",
   "execution_count": null,
   "metadata": {},
   "outputs": [],
   "source": []
  },
  {
   "cell_type": "markdown",
   "metadata": {},
   "source": [
    "##### * - something that occurs at least 0 times"
   ]
  },
  {
   "cell_type": "code",
   "execution_count": null,
   "metadata": {},
   "outputs": [],
   "source": []
  },
  {
   "cell_type": "markdown",
   "metadata": {},
   "source": [
    "##### + - something that occurs at least once"
   ]
  },
  {
   "cell_type": "code",
   "execution_count": null,
   "metadata": {},
   "outputs": [],
   "source": []
  },
  {
   "cell_type": "markdown",
   "metadata": {},
   "source": [
    "##### In-class exercise 1: \n",
    "\n",
    "Use a regular expression to find every number in the given string"
   ]
  },
  {
   "cell_type": "code",
   "execution_count": 13,
   "metadata": {},
   "outputs": [
    {
     "name": "stdout",
     "output_type": "stream",
     "text": [
      "['10909090', '1', '2']\n"
     ]
    }
   ],
   "source": [
    "my_string = \"This string has 10909090 numbers, but it is only 1 string. I hope you solve this 2day.\"\n",
    "pattern_num = re.compile('[0-9]+')\n",
    "found_num = pattern_num.findall(my_string)\n",
    "print(found_num)"
   ]
  },
  {
   "cell_type": "markdown",
   "metadata": {},
   "source": [
    "### Escaping Characters"
   ]
  },
  {
   "cell_type": "markdown",
   "metadata": {},
   "source": [
    "##### \\w - look for any Unicode character<br/>\\W - look for anything that isnt a Unicode character\n",
    "\n",
    "[History on Unicode](http://unicode.org/standard/WhatIsUnicode.html)\n",
    "\n",
    "[More on Unicode Characters](https://en.wikipedia.org/wiki/List_of_Unicode_characters)"
   ]
  },
  {
   "cell_type": "code",
   "execution_count": 19,
   "metadata": {},
   "outputs": [
    {
     "name": "stdout",
     "output_type": "stream",
     "text": [
      "['This', 'is', 'a', 'sentence', 'with', 'an', 'exclamation', 'mark', '130']\n",
      "[' ', ' ', ' ', '.     ', ' ', ', ', ' ', '! ']\n"
     ]
    }
   ],
   "source": [
    "string_with_punc = 'This is a sentence.     with an, exclamation mark! 130'\n",
    "\n",
    "unicode_characters = re.compile('\\w+')\n",
    "\n",
    "print(unicode_characters.findall(string_with_punc))\n",
    "\n",
    "print(re.compile('\\W+').findall(string_with_punc))"
   ]
  },
  {
   "cell_type": "markdown",
   "metadata": {},
   "source": [
    "##### \\d - look for any digit 0-9<br/>\\D - look for anything that isnt a digit"
   ]
  },
  {
   "cell_type": "code",
   "execution_count": 25,
   "metadata": {},
   "outputs": [
    {
     "name": "stdout",
     "output_type": "stream",
     "text": [
      "['5', '2', '0', '0', '2', '6', '3', '1', '2']\n",
      "['5th', '26th', '3rd', '1st', '2nd']\n",
      "['Today is the ', 'th, in ', ' days it will be the ', 'th. ', 'rd, ', 'st ']\n"
     ]
    }
   ],
   "source": [
    "string_with_days = 'Today is the 5th, in 200 days it will be the 26th. 3rd, 1st 2nd'\n",
    "\n",
    "all_digit_pattern = re.compile('\\d')\n",
    "\n",
    "print(all_digit_pattern.findall(string_with_days))\n",
    "\n",
    "days_pattern = re.compile('\\d{1,2}[d-t]{2}')\n",
    "\n",
    "print(days_pattern.findall(string_with_days))\n",
    "\n",
    "non_didgit_pattern = re.compile('\\D+ ')\n",
    "\n",
    "print(non_didgit_pattern.findall(string_with_days))"
   ]
  },
  {
   "cell_type": "markdown",
   "metadata": {},
   "source": [
    "##### \\s - look for any white space<br/>\\S - look for anything that isnt whitespace"
   ]
  },
  {
   "cell_type": "code",
   "execution_count": 29,
   "metadata": {},
   "outputs": [
    {
     "name": "stdout",
     "output_type": "stream",
     "text": [
      "[' ', ' ', ' ', ' ', '            ']\n"
     ]
    },
    {
     "data": {
      "text/plain": [
       "['Are', 'you', 'afraid', 'of', 'the', 'dark?']"
      ]
     },
     "execution_count": 29,
     "metadata": {},
     "output_type": "execute_result"
    }
   ],
   "source": [
    "spooky = 'Are you afraid of the            dark?'\n",
    "\n",
    "white_space_pattern = re.compile('\\s+')\n",
    "\n",
    "print(white_space_pattern.findall(spooky))\n",
    "\n",
    "non_white_space_pattern = re.compile('\\S+')\n",
    "\n",
    "print(non_white_space_pattern.findall(spooky))"
   ]
  },
  {
   "cell_type": "markdown",
   "metadata": {},
   "source": [
    "##### \\b - look for boundaries or edges of a word<br/>\\B - look for anything that isnt a boundary"
   ]
  },
  {
   "cell_type": "code",
   "execution_count": 49,
   "metadata": {},
   "outputs": [
    {
     "name": "stdout",
     "output_type": "stream",
     "text": [
      "['Coding Temple']\n",
      "['Coding Temple']\n",
      "['Coding Temple']\n",
      "['Coding Temple']\n",
      "[]\n",
      "[]\n",
      "['Coding Temple']\n",
      "[]\n",
      "[]\n",
      "['Coding Temple']\n",
      "['Coding Temple']\n",
      "['Coding Temple']\n",
      "[]\n"
     ]
    }
   ],
   "source": [
    "boundary_pattern = re.compile(r'\\bCoding Temple\\b')\n",
    "\n",
    "print(boundary_pattern.findall('Coding Temple'))\n",
    "print(boundary_pattern.findall('Welcome to Coding Temple'))\n",
    "print(boundary_pattern.findall('Welcome to Coding Temple!'))\n",
    "print(boundary_pattern.findall('Welcome to Coding Temple '))\n",
    "print(boundary_pattern.findall('Welcome to FakeCoding Temple'))\n",
    "print(boundary_pattern.findall('Welcome to Coding Temple2'))\n",
    "\n",
    "non_boundary_pattern = re.compile(r'\\BCoding Temple\\B')\n",
    "\n",
    "print(non_boundary_pattern.findall('Welcome to FakeCoding Temple2'))\n",
    "print(non_boundary_pattern.findall('Welcome to Coding Temple2'))\n",
    "print(non_boundary_pattern.findall('Welcome to FakeCoding Temple'))\n",
    "\n",
    "mix_boundary_pattern = re.compile(r'\\BCoding Temple\\b')\n",
    "\n",
    "print(mix_boundary_pattern.findall('FakeCoding Temple'))\n",
    "print(mix_boundary_pattern.findall('FakeCoding Temple!'))\n",
    "print(mix_boundary_pattern.findall('FakeCoding Temple '))\n",
    "print(mix_boundary_pattern.findall(' Coding Temple '))"
   ]
  },
  {
   "cell_type": "markdown",
   "metadata": {},
   "source": [
    "### Grouping"
   ]
  },
  {
   "cell_type": "code",
   "execution_count": 62,
   "metadata": {},
   "outputs": [
    {
     "name": "stdout",
     "output_type": "stream",
     "text": [
      "['Max Smith', 'aaron rodgers', 'Sam Darnold', 'LeBron James', 'Micheal Jordan', 'Patrick McCormick']\n",
      "Max Smith\n",
      "Smith Max\n",
      "No match, good to see aaron rodgers leave the division\n",
      "Sam Darnold\n",
      "Darnold Sam\n",
      "LeBron James\n",
      "James LeBron\n",
      "Micheal Jordan\n",
      "Jordan Micheal\n",
      "Patrick McCormick\n",
      "McCormick Patrick\n"
     ]
    }
   ],
   "source": [
    "sports_names = 'Max Smith, aaron rodgers, Sam Darnold, LeBron James, Micheal Jordan, Patrick McCormick'\n",
    "\n",
    "group_pattern = re.compile('([A-Z][A-z]+) ([A-Z][a-z][A-z]?[a-z]+)')\n",
    "\n",
    "group_pattern.findall(sports_names)\n",
    "print(sports_names.split(', '))\n",
    "for name in sports_names.split(', '):\n",
    "    result = group_pattern.match(name)\n",
    "    if result:\n",
    "        print(result.group())\n",
    "        print(f'{result.group(2)} {result.group(1)}')\n",
    "    else:\n",
    "        print('No match, good to see aaron rodgers leave the division')"
   ]
  },
  {
   "cell_type": "markdown",
   "metadata": {},
   "source": [
    "##### In-class Exercise 2:\n",
    "\n",
    "Write a function using regular expressions to find the domain name in the given email addresses (and return None for the invalid email addresses)<br><b>HINT: Use '|' for either or</b>"
   ]
  },
  {
   "cell_type": "code",
   "execution_count": 79,
   "metadata": {},
   "outputs": [
    {
     "name": "stdout",
     "output_type": "stream",
     "text": [
      "None\n",
      "pocohontas1776@gmail.com\n",
      "None\n",
      "yourfavoriteband@g6.org\n",
      "None\n"
     ]
    }
   ],
   "source": [
    "my_emails = [\"jordanw@codingtemple.orgcom\", \"pocohontas1776@gmail.com\", \"helloworld@aol..com\",\n",
    "             \"yourfavoriteband@g6.org\", \"@codingtemple.com\"]\n",
    "email_pattern = re.compile('[A-z]+[0-9]*[A-z]*[0-9]*@{1}[A-z]+[0-9]*.{1}(org$|com$)')\n",
    "\n",
    "email_pattern.match(\"pocohontas1776@gmail.com\")\n",
    "\n",
    "for email in my_emails:\n",
    "    result = email_pattern.match(email)\n",
    "    if result:\n",
    "        print(result.group())\n",
    "    else:\n",
    "        print('None')\n",
    "# You can also use the $ at the end of your compile expression -- this stops the search\n",
    "\n",
    "#.com OR .org => com|org\n",
    "\n",
    "#Expected output:\n",
    "#None\n",
    "#pocohontas1776@gmail.com\n",
    "#None\n",
    "#yourfavoriteband@g6.org\n",
    "#None\n",
    "\n",
    "\n"
   ]
  },
  {
   "cell_type": "markdown",
   "metadata": {},
   "source": [
    "### Opening a File <br>\n",
    "<p>Python gives us a couple ways to import files, below are the two used most often.</p>"
   ]
  },
  {
   "cell_type": "markdown",
   "metadata": {},
   "source": [
    "##### open()"
   ]
  },
  {
   "cell_type": "code",
   "execution_count": 164,
   "metadata": {},
   "outputs": [
    {
     "name": "stdout",
     "output_type": "stream",
     "text": [
      "Hawkins, Derek\tderek@codingtemple.com\t(555) 555-5555\tTeacher, Coding Temple\t@derekhawkins\n",
      "Zhai, Mo\tmozhai@codingtemple.com\t(555) 555-5554\tTeacher, Coding Temple\n",
      "Johnson, Joe\tjoejohnson@codingtemple.com\t\tJohson, Joe\n",
      "Osterberg, Sven-Erik\tgovernor@norrbotten.co.se\t\tGovernor, Norrbotten\t@sverik\n",
      ", Tim\ttim@killerrabbit.com\t\tEnchanter, Killer Rabbit Cave\n",
      "Butz, Ryan\tryanb@codingtemple.com\t(555) 555-5543\tCEO, Coding Temple\t@ryanbutz\n",
      "Doctor, The\tdoctor+companion@tardis.co.uk\t\tTime Lord, Gallifrey\n",
      "Exampleson, Example\tme@example.com\t555-555-5552\tExample, Example Co.\t@example\n",
      "Pael, Ripal\tripalp@codingtemple.com\t(555) 555-5553\tTeacher, Coding Temple\t@ripalp\n",
      "Vader, Darth\tdarth-vader@empire.gov\t(555) 555-4444\tSith Lord, Galactic Empire\t@darthvader\n",
      "Fernandez de la Vega Sanz, Maria Teresa\tmtfvs@spain.gov\t\tFirst Deputy Prime Minister, Spanish Gov\n",
      "\n"
     ]
    }
   ],
   "source": [
    "f2 = open('./names.txt')\n",
    "data = f2.read()\n",
    "print(data)\n",
    "f2.close()"
   ]
  },
  {
   "cell_type": "markdown",
   "metadata": {},
   "source": [
    "##### with open()"
   ]
  },
  {
   "cell_type": "code",
   "execution_count": 173,
   "metadata": {},
   "outputs": [
    {
     "name": "stdout",
     "output_type": "stream",
     "text": [
      "Hawkins, Derek\tderek@codingtemple.com\t(555) 555-5555\tTeacher, Coding Temple\t@derekhawkins\n",
      "\n",
      "Zhai, Mo\tmozhai@codingtemple.com\t(555) 555-5554\tTeacher, Coding Temple\n",
      "\n",
      "Johnson, Joe\tjoejohnson@codingtemple.com\t\tJohson, Joe\n",
      "\n",
      "Osterberg, Sven-Erik\tgovernor@norrbotten.co.se\t\tGovernor, Norrbotten\t@sverik\n",
      "\n",
      ", Tim\ttim@killerrabbit.com\t\tEnchanter, Killer Rabbit Cave\n",
      "\n",
      "Butz, Ryan\tryanb@codingtemple.com\t(555) 555-5543\tCEO, Coding Temple\t@ryanbutz\n",
      "\n",
      "Doctor, The\tdoctor+companion@tardis.co.uk\t\tTime Lord, Gallifrey\n",
      "\n",
      "Exampleson, Example\tme@example.com\t555-555-5552\tExample, Example Co.\t@example\n",
      "\n",
      "Pael, Ripal\tripalp@codingtemple.com\t(555) 555-5553\tTeacher, Coding Temple\t@ripalp\n",
      "\n",
      "Vader, Darth\tdarth-vader@empire.gov\t(555) 555-4444\tSith Lord, Galactic Empire\t@darthvader\n",
      "\n",
      "Fernandez de la Vega Sanz, Maria Teresa\tmtfvs@spain.gov\t\tFirst Deputy Prime Minister, Spanish Gov\n",
      "\n"
     ]
    }
   ],
   "source": [
    "with open('./names.txt') as f:\n",
    "    data = f.readlines()\n",
    "for line in data:\n",
    "    print(line)"
   ]
  },
  {
   "cell_type": "markdown",
   "metadata": {},
   "source": [
    "##### re.match()"
   ]
  },
  {
   "cell_type": "code",
   "execution_count": 95,
   "metadata": {},
   "outputs": [
    {
     "data": {
      "text/plain": [
       "<re.Match object; span=(0, 14), match='Hawkins, Derek'>"
      ]
     },
     "execution_count": 95,
     "metadata": {},
     "output_type": "execute_result"
    }
   ],
   "source": [
    "re.match('Hawkins, Derek', data)"
   ]
  },
  {
   "cell_type": "markdown",
   "metadata": {},
   "source": [
    "##### re.search()"
   ]
  },
  {
   "cell_type": "code",
   "execution_count": 97,
   "metadata": {},
   "outputs": [
    {
     "data": {
      "text/plain": [
       "<re.Match object; span=(652, 664), match='Vader, Darth'>"
      ]
     },
     "execution_count": 97,
     "metadata": {},
     "output_type": "execute_result"
    }
   ],
   "source": [
    "re.search('Vader, Darth', data)\n",
    "\n",
    "re.compile('Vader, Darth').search(data)"
   ]
  },
  {
   "cell_type": "markdown",
   "metadata": {},
   "source": [
    "##### Store the String to a Variable"
   ]
  },
  {
   "cell_type": "code",
   "execution_count": 98,
   "metadata": {},
   "outputs": [
    {
     "name": "stdout",
     "output_type": "stream",
     "text": [
      "Who you would like to search for?: Darth Vader\n",
      "Vader, Darth\n"
     ]
    },
    {
     "data": {
      "text/plain": [
       "<re.Match object; span=(652, 664), match='Vader, Darth'>"
      ]
     },
     "execution_count": 98,
     "metadata": {},
     "output_type": "execute_result"
    }
   ],
   "source": [
    "user_search = input('Who you would like to search for?: ')\n",
    "\n",
    "user_name_list = user_search.split(' ')\n",
    "reformat_user_search = f'{user_name_list[-1]}, {user_name_list[0]}'\n",
    "print(reformat_user_search)\n",
    "\n",
    "re.search(reformat_user_search, data)"
   ]
  },
  {
   "cell_type": "markdown",
   "metadata": {},
   "source": [
    "### In-Class Exercise #3 <br>\n",
    "<p>Print each persons name and twitter handle, using groups, should look like:</p>\n",
    "<p>==============<br>\n",
    "   Full Name / Twitter<br>\n",
    "   ==============</p>\n",
    "Derek Hawkins / @derekhawkins\n",
    "\n",
    " Erik Sven-Osterberg / @sverik\n",
    "\n",
    " Ryan Butz / @ryanbutz\n",
    "\n",
    " Example Exampleson / @example\n",
    "\n",
    " Ripal Pael / @ripalp\n",
    "\n",
    " Darth Vader / @darthvader"
   ]
  },
  {
   "cell_type": "code",
   "execution_count": 159,
   "metadata": {
    "scrolled": true
   },
   "outputs": [
    {
     "name": "stdout",
     "output_type": "stream",
     "text": [
      "@derekhawkins\n"
     ]
    }
   ],
   "source": [
    "# full_name = re.compile('([A-Z]+[a-z]+[A-Z]?[a-z]*)(, )([A-Z]+[a-z]+)').search(data)\n",
    "# twitter_handle = re.compile(r'\\B@[a-z]+').search(data)\n",
    "# new_full_name = full_name.group().split(', ')\n",
    "# reformed_full_name = f'{new_full_name[-1]} {new_full_name[0]}'\n",
    "# new_twitter_handle = twitter_handle.group()\n",
    "\n"
   ]
  },
  {
   "cell_type": "code",
   "execution_count": 176,
   "metadata": {},
   "outputs": [
    {
     "name": "stdout",
     "output_type": "stream",
     "text": [
      "Derek Hawkins / @derekhawkins\n",
      "Sven-Erik Osterberg / @sverik\n",
      "Ryan Butz / @ryanbutz\n",
      "Example Exampleson / @example\n",
      "Ripal Pael / @ripalp\n",
      "Darth Vader / @darthvader\n",
      "<re.Match object; span=(0, 13), match='@derekhawkins'>\n",
      "None\n",
      "None\n",
      "<re.Match object; span=(0, 7), match='@sverik'>\n",
      "None\n",
      "<re.Match object; span=(0, 9), match='@ryanbutz'>\n",
      "None\n",
      "<re.Match object; span=(0, 8), match='@example'>\n",
      "<re.Match object; span=(0, 7), match='@ripalp'>\n",
      "<re.Match object; span=(0, 11), match='@darthvader'>\n",
      "None\n"
     ]
    }
   ],
   "source": [
    "ice_pattern = re.compile('([A-z][a-z]+),\\s([A-z][a-z]+-?[A-z]+).+\\s(@[A-z]+)')\n",
    "\n",
    "for line in data:\n",
    "    result = ice_pattern.match(line)\n",
    "    if result:\n",
    "        print(f'{result.group(2)} {result.group(1)} / {result.group(3)}')\n",
    "        \n",
    "x_pattern = re.compile('@[A-z]+$')\n",
    "\n",
    "for line in data:\n",
    "    print(x_pattern.match(line.split()[-1]))"
   ]
  },
  {
   "cell_type": "markdown",
   "metadata": {},
   "source": [
    "### Regex project\n",
    "\n",
    "Use python to read the file regex_test.txt and print the last name on each line using regular expressions and groups (return None for names with no first and last name, or names that aren't properly capitalized)\n",
    "##### Hint: use with open() and readlines()"
   ]
  },
  {
   "cell_type": "code",
   "execution_count": null,
   "metadata": {},
   "outputs": [],
   "source": [
    "\"\"\"\n",
    "Expected Output\n",
    "Abraham Lincoln\n",
    "Andrew P Garfield\n",
    "Connor Milliken\n",
    "Jordan Alexander Williams\n",
    "None\n",
    "None\n",
    "\"\"\""
   ]
  },
  {
   "cell_type": "code",
   "execution_count": 3,
   "metadata": {},
   "outputs": [
    {
     "name": "stdout",
     "output_type": "stream",
     "text": [
      "Age: 25, Country: United States\n",
      "Age: 30, Country: Canada\n",
      "\n",
      "Invalid record\n",
      "Invalid record\n",
      "Invalid record\n",
      "Age: 35, Country: Australia\n",
      "\n",
      "Invalid record\n",
      "Invalid record\n",
      "Invalid record\n",
      "Invalid record\n",
      "Invalid record\n",
      "Invalid record\n",
      "Invalid record\n",
      "Invalid record\n",
      "Invalid record\n",
      "Age: 37, Country: South Africa\n",
      "Invalid record\n",
      "Invalid record\n",
      "Invalid record\n",
      "Invalid record\n",
      "Invalid record\n",
      "17 4\n"
     ]
    }
   ],
   "source": [
    "info_pattern = re.compile('([A-z]+\\s[A-z]+),\\s([0-9]+),\\s([A-Z][a-z]+\\s?[A-Z]?[a-z]*)')\n",
    "info_f_name = 'user_records.txt'\n",
    "\n",
    "def val_or_inval(file_name, regex_pattern):\n",
    "    with open(f'./{file_name}') as f:\n",
    "        data = f.readlines()\n",
    "    count_val = 0\n",
    "    count_inval = 0\n",
    "    for line in data:\n",
    "        result = regex_pattern.match(line)\n",
    "        if result:\n",
    "            print(f'Age: {result.group(2)}, Country: {result.group(3)}')\n",
    "            count_val += 1\n",
    "        else:\n",
    "            print('Invalid record')\n",
    "            count_inval += 1\n",
    "    f.close()\n",
    "    print(count_inval, count_val)\n",
    "\n",
    "val_or_inval(info_f_name, info_pattern)"
   ]
  },
  {
   "cell_type": "code",
   "execution_count": null,
   "metadata": {},
   "outputs": [],
   "source": []
  }
 ],
 "metadata": {
  "kernelspec": {
   "display_name": "Python 3 (ipykernel)",
   "language": "python",
   "name": "python3"
  },
  "language_info": {
   "codemirror_mode": {
    "name": "ipython",
    "version": 3
   },
   "file_extension": ".py",
   "mimetype": "text/x-python",
   "name": "python",
   "nbconvert_exporter": "python",
   "pygments_lexer": "ipython3",
   "version": "3.11.4"
  }
 },
 "nbformat": 4,
 "nbformat_minor": 2
}
